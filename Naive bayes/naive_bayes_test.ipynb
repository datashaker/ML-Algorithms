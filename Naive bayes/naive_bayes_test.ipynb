{
 "cells": [
  {
   "cell_type": "code",
   "execution_count": 9,
   "metadata": {
    "collapsed": true
   },
   "outputs": [],
   "source": [
    "from nltk.corpus import stopwords\n",
    "import numpy as np\n",
    "import re\n",
    "import bayes as b"
   ]
  },
  {
   "cell_type": "code",
   "execution_count": 10,
   "metadata": {
    "collapsed": true
   },
   "outputs": [],
   "source": [
    "reg = re.compile('\\\\W*')\n",
    "with open('C:/Users/user/Data_root/data/sen_mix.txt') as Text:\n",
    "    my_text = Text.read().splitlines()"
   ]
  },
  {
   "cell_type": "code",
   "execution_count": 11,
   "metadata": {},
   "outputs": [
    {
     "name": "stderr",
     "output_type": "stream",
     "text": [
      "D:\\software\\anaconda\\envs\\Python3\\lib\\re.py:212: FutureWarning: split() requires a non-empty pattern match.\n",
      "  return _compile(pattern, flags).split(string, maxsplit)\n"
     ]
    }
   ],
   "source": [
    "stops = set(stopwords.words(\"english\"))\n",
    "tokens = []\n",
    "sentences = []\n",
    "lines_counter = 0\n",
    "for line in my_text:\n",
    "    newline = re.split('\\\\W*',line.lower())\n",
    "    token = [el for el in newline if (el != '') and (len(el)>3) and (el not in stops)]\n",
    "    tokens.append(token)\n",
    "    sentences.append(token)\n",
    "    lines_counter += 1"
   ]
  },
  {
   "cell_type": "code",
   "execution_count": 12,
   "metadata": {},
   "outputs": [],
   "source": [
    "classes = [1 for i in range(0,100)] + [0 for i in range (0,100)]"
   ]
  },
  {
   "cell_type": "code",
   "execution_count": 13,
   "metadata": {
    "collapsed": true
   },
   "outputs": [],
   "source": [
    "vocabList = b.createVocabList(sentences)"
   ]
  },
  {
   "cell_type": "code",
   "execution_count": 14,
   "metadata": {
    "collapsed": true
   },
   "outputs": [],
   "source": [
    "trainMat=[]\n",
    "for i in range(0,lines_counter):\n",
    "    trainMat.append(b.setOfWords2Vec(vocabList, sentences[i]))"
   ]
  },
  {
   "cell_type": "code",
   "execution_count": 15,
   "metadata": {
    "collapsed": true
   },
   "outputs": [],
   "source": [
    "p0,p1,pAb = b.train(trainMat,classes)"
   ]
  },
  {
   "cell_type": "code",
   "execution_count": 16,
   "metadata": {},
   "outputs": [
    {
     "name": "stdout",
     "output_type": "stream",
     "text": [
      "the word: bad is not in my Vocabulary!\n",
      "['bad', 'awful', 'boring'] classified as:  Negative\n",
      "the word: impression is not in my Vocabulary!\n",
      "['good', 'interesting', 'impression'] classified as: Positive\n"
     ]
    }
   ],
   "source": [
    "b.test(sentences,classes,['bad','awful','boring'],['good','interesting','impression'])"
   ]
  }
 ],
 "metadata": {
  "kernelspec": {
   "display_name": "Python 3",
   "language": "python",
   "name": "python3"
  },
  "language_info": {
   "codemirror_mode": {
    "name": "ipython",
    "version": 3
   },
   "file_extension": ".py",
   "mimetype": "text/x-python",
   "name": "python",
   "nbconvert_exporter": "python",
   "pygments_lexer": "ipython3",
   "version": "3.6.2"
  }
 },
 "nbformat": 4,
 "nbformat_minor": 2
}
