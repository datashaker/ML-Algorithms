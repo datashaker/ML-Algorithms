{
 "cells": [
  {
   "cell_type": "code",
   "execution_count": 39,
   "metadata": {
    "collapsed": true
   },
   "outputs": [],
   "source": [
    "import pandas as pd\n",
    "import numpy as np\n",
    "import KNN     "
   ]
  },
  {
   "cell_type": "code",
   "execution_count": 41,
   "metadata": {
    "collapsed": true
   },
   "outputs": [],
   "source": [
    "np_data = np.genfromtxt(\"C:/Users/user/Data_root/data/wine.data\", delimiter = ',')"
   ]
  },
  {
   "cell_type": "code",
   "execution_count": 42,
   "metadata": {
    "collapsed": true
   },
   "outputs": [],
   "source": [
    "np_obj = np.copy(np_data [:,1:])\n",
    "np_labels = np.copy(np_data[:,0])\n",
    "n_testing_samples = 50\n",
    "np.set_printoptions(precision=2,suppress=True)"
   ]
  },
  {
   "cell_type": "code",
   "execution_count": 43,
   "metadata": {},
   "outputs": [
    {
     "name": "stdout",
     "output_type": "stream",
     "text": [
      "[[  11.46    3.74    1.82   19.5   107.      3.18    2.58    0.24    3.58\n",
      "     2.9     0.75    2.81  562.  ]\n",
      " [  12.25    3.88    2.2    18.5   112.      1.38    0.78    0.29    1.14\n",
      "     8.21    0.65    2.    855.  ]\n",
      " [  13.4     4.6     2.86   25.    112.      1.98    0.96    0.27    1.11\n",
      "     8.5     0.67    1.92  630.  ]] [ 2.  3.  3.]\n",
      "[[  12.42    4.43    2.73   26.5   102.      2.2     2.13    0.43    1.71\n",
      "     2.08    0.92    3.12  365.  ]\n",
      " [  12.08    1.13    2.51   24.     78.      2.      1.58    0.4     1.4\n",
      "     2.2     1.31    2.72  630.  ]\n",
      " [  12.52    2.43    2.17   21.     88.      2.55    2.27    0.26    1.22\n",
      "     2.      0.9     2.78  325.  ]] [ 2.  2.  2.]\n"
     ]
    }
   ],
   "source": [
    "indices = np.random.permutation(len(np_data))\n",
    "learnset_data = np_obj[indices[:-n_testing_samples]]\n",
    "learnset_labels = np_labels[indices[:-n_testing_samples]]\n",
    "testset_data = np_obj[indices[-n_testing_samples:]]\n",
    "testset_labels = np_labels[indices[-n_testing_samples:]]\n",
    "print(learnset_data[:3], learnset_labels[:3])\n",
    "print(testset_data[:3], testset_labels[:3])"
   ]
  },
  {
   "cell_type": "code",
   "execution_count": 44,
   "metadata": {},
   "outputs": [
    {
     "name": "stdout",
     "output_type": "stream",
     "text": [
      "index:  5 , result of vote:  2.0 , label:  2.0\n",
      "index:  15 , result of vote:  1.0 , label:  1.0\n",
      "index:  25 , result of vote:  2.0 , label:  1.0\n",
      "index:  35 , result of vote:  1.0 , label:  1.0\n",
      "index:  45 , result of vote:  2.0 , label:  2.0\n"
     ]
    }
   ],
   "source": [
    "votings = []\n",
    "for i in range(n_testing_samples):\n",
    "    neighbors = KNN.get_neighbors(learnset_data, \n",
    "                              learnset_labels, \n",
    "                              testset_data[i], \n",
    "                              3, \n",
    "                              distance=KNN.distance)\n",
    "    if i%10 == 5:\n",
    "        print(\"index: \", i, \n",
    "          \", result of vote: \", KNN.vote(neighbors), \n",
    "          \", label: \", testset_labels[i]) \n",
    "          #\", data: \", testset_data[i])\n",
    "    votings.append(KNN.vote(neighbors))"
   ]
  },
  {
   "cell_type": "code",
   "execution_count": 45,
   "metadata": {},
   "outputs": [
    {
     "data": {
      "text/html": [
       "<div>\n",
       "<style>\n",
       "    .dataframe thead tr:only-child th {\n",
       "        text-align: right;\n",
       "    }\n",
       "\n",
       "    .dataframe thead th {\n",
       "        text-align: left;\n",
       "    }\n",
       "\n",
       "    .dataframe tbody tr th {\n",
       "        vertical-align: top;\n",
       "    }\n",
       "</style>\n",
       "<table border=\"1\" class=\"dataframe\">\n",
       "  <thead>\n",
       "    <tr style=\"text-align: right;\">\n",
       "      <th>Predicted</th>\n",
       "      <th>1.0</th>\n",
       "      <th>2.0</th>\n",
       "      <th>3.0</th>\n",
       "    </tr>\n",
       "    <tr>\n",
       "      <th>Actual</th>\n",
       "      <th></th>\n",
       "      <th></th>\n",
       "      <th></th>\n",
       "    </tr>\n",
       "  </thead>\n",
       "  <tbody>\n",
       "    <tr>\n",
       "      <th>1.0</th>\n",
       "      <td>16</td>\n",
       "      <td>2</td>\n",
       "      <td>1</td>\n",
       "    </tr>\n",
       "    <tr>\n",
       "      <th>2.0</th>\n",
       "      <td>1</td>\n",
       "      <td>12</td>\n",
       "      <td>6</td>\n",
       "    </tr>\n",
       "    <tr>\n",
       "      <th>3.0</th>\n",
       "      <td>0</td>\n",
       "      <td>4</td>\n",
       "      <td>8</td>\n",
       "    </tr>\n",
       "  </tbody>\n",
       "</table>\n",
       "</div>"
      ],
      "text/plain": [
       "Predicted  1.0  2.0  3.0\n",
       "Actual                  \n",
       "1.0         16    2    1\n",
       "2.0          1   12    6\n",
       "3.0          0    4    8"
      ]
     },
     "execution_count": 45,
     "metadata": {},
     "output_type": "execute_result"
    }
   ],
   "source": [
    "y_actu = pd.Series(testset_labels, name='Actual')\n",
    "y_pred = pd.Series(votings, name='Predicted')\n",
    "df_confusion = pd.crosstab(y_actu, y_pred)\n",
    "df_confusion"
   ]
  },
  {
   "cell_type": "code",
   "execution_count": 46,
   "metadata": {},
   "outputs": [
    {
     "name": "stdout",
     "output_type": "stream",
     "text": [
      "Accuracy =  72.0 %\n"
     ]
    }
   ],
   "source": [
    "correct = 0\n",
    "incorrect = 0 \n",
    "for i in range(len(y_pred)):\n",
    "    if y_pred[i] == y_actu[i]:\n",
    "        correct += 1\n",
    "    else:\n",
    "        incorrect += 1\n",
    "print (\"Accuracy = \",correct/(incorrect+correct)*100,\"%\")"
   ]
  }
 ],
 "metadata": {
  "kernelspec": {
   "display_name": "Python 3",
   "language": "python",
   "name": "python3"
  },
  "language_info": {
   "codemirror_mode": {
    "name": "ipython",
    "version": 3
   },
   "file_extension": ".py",
   "mimetype": "text/x-python",
   "name": "python",
   "nbconvert_exporter": "python",
   "pygments_lexer": "ipython3",
   "version": "3.6.2"
  }
 },
 "nbformat": 4,
 "nbformat_minor": 2
}
